{
 "cells": [
  {
   "cell_type": "code",
   "execution_count": 26,
   "metadata": {
    "collapsed": true
   },
   "outputs": [
    {
     "name": "stdout",
     "output_type": "stream",
     "text": [
      "             associated with a     associated with each  0.6666666666666666  \\\n",
      "0             gas line located        gas line easement            1.000000   \n",
      "1                 under a high              under a two            0.500000   \n",
      "2               a high voltage             a high level            0.571429   \n",
      "3            issues to address             issues to do            1.000000   \n",
      "4    the proposed Transwestern  the proposed investment            0.500000   \n",
      "..                         ...                      ...                 ...   \n",
      "941              of things get            of things she            1.000000   \n",
      "942              sent to Susan              sent to the            0.636364   \n",
      "943              I would never             I would like            0.524390   \n",
      "944               and give her             and give him            0.500000   \n",
      "945           the correct info      the correct amounts            0.666667   \n",
      "\n",
      "     Unnamed: 3  \n",
      "0           NaN  \n",
      "1           NaN  \n",
      "2           NaN  \n",
      "3           NaN  \n",
      "4           NaN  \n",
      "..          ...  \n",
      "941         NaN  \n",
      "942         NaN  \n",
      "943         NaN  \n",
      "944         NaN  \n",
      "945         NaN  \n",
      "\n",
      "[946 rows x 4 columns]\n"
     ]
    }
   ],
   "source": [
    "\n",
    "import imp\n",
    "import pandas as pd\n",
    "\n",
    "\n",
    "df = pd.read_csv(\"output.csv\", sep=\"\\t\",on_bad_lines='skip')\n",
    "\n",
    "print(df)\n",
    "\n",
    "\n",
    "\n"
   ]
  },
  {
   "cell_type": "code",
   "execution_count": null,
   "metadata": {
    "collapsed": false,
    "pycharm": {
     "name": "#%%\n"
    }
   },
   "outputs": [],
   "source": []
  },
  {
   "cell_type": "code",
   "execution_count": null,
   "metadata": {
    "collapsed": false,
    "pycharm": {
     "name": "#%%\n"
    }
   },
   "outputs": [],
   "source": []
  }
 ],
 "metadata": {
  "kernelspec": {
   "display_name": "Python 3",
   "language": "python",
   "name": "python3"
  },
  "language_info": {
   "codemirror_mode": {
    "name": "ipython",
    "version": 3
   },
   "file_extension": ".py",
   "mimetype": "text/x-python",
   "name": "python",
   "nbconvert_exporter": "python",
   "pygments_lexer": "ipython3",
   "version": "3.10.1"
  }
 },
 "nbformat": 4,
 "nbformat_minor": 0
}
